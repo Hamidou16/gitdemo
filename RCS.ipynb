{
 "cells": [
  {
   "cell_type": "markdown",
   "metadata": {},
   "source": [
    "# Revision control software"
   ]
  },
  {
   "cell_type": "markdown",
   "metadata": {},
   "source": [
    "## There are two main purposes of RCS systems:\n",
    "- Keep track of changes in the source code.\n",
    "    - Allow reverting back to an older revision if something goes wrong.\n",
    "    - Work on several \"branches\" of the software concurrently.\n",
    "    - Tags revisions to keep track of which version of the software that was used for what (for example, \"release-1.0\", \"paper-A-final\", ...)\n",
    "- Make it possible for serveral people to collaboratively work on the same code base simultaneously.\n",
    "    - Allow many authors to make changes to the code.\n",
    "    - Clearly communicating and visualizing changes in the code base to everyone involved."
   ]
  },
  {
   "cell_type": "markdown",
   "metadata": {},
   "source": [
    "## Basic principles and terminology for RCS systems\n",
    "\n",
    "In an RCS, the source code or digital content is stored in a **repository**.\n",
    "\n",
    "- The repository does not only contain the latest version of all files, but the complete history of all changes to the files since they were added to the repository.\n",
    "\n",
    "- A user can **checkout** the repository, and obtain a local working copy of the files. All changes are made to the files in the local working directory, where files can be added, removed and updated.\n",
    "\n",
    "- When a task has been completed, the changes to the local files are **commited** (saved to the repository).\n",
    "\n",
    "- If someone else has been making changes to the same files, a **conflict** can occur. In many cases conflicts can be **resolved** automatically by the system, but in some cases we might manually have to merge different changes together.\n",
    "\n",
    "- It is often useful to create a new **branch** in a repository, or a **fork** or **clone** of an entire repository, when we doing larger experimental development. The main branch in a repository is called often **master** or **trunk**. When work on a branch or fork is completed, it can be merged in to the master branch/repository.\n",
    "\n",
    "- With distributed RCSs such as GIT or Mercurial, we can **pull** and **push** changesets between different repositories. For example, between a local copy of there repository to a central online reposistory (for example on a community repository host site like github.com)."
   ]
  },
  {
   "cell_type": "markdown",
   "metadata": {},
   "source": [
    "### Some good RCS software\n",
    "1. GIT (git) : http://git-scm.com/\n",
    "2. Mercurial (hg) : http://mercurial.selenic.com/\n",
    "In the rest of this lecture we will look at git, although hg is just as good and work in almost exactly the same way.\n"
   ]
  },
  {
   "cell_type": "markdown",
   "metadata": {},
   "source": [
    "### Installing git\n",
    "On Linux:\n",
    "\n",
    "`$ sudo apt-get install git`\n",
    "\n",
    "On Mac (with macports):\n",
    "\n",
    "`$ sudo port install git`\n",
    "\n",
    "The first time you start to use git, you'll need to configure your author information:\n",
    "\n",
    "`$ git config --global user.name 'taro taro'`\n",
    "\n",
    "`$ git config --global user.email taro@example.jp`"
   ]
  },
  {
   "cell_type": "markdown",
   "metadata": {},
   "source": [
    "### Creating and cloning a repository\n",
    "To create a brand new empty repository, we can use the command `git init repository-name`:"
   ]
  },
  {
   "cell_type": "code",
   "execution_count": 1,
   "metadata": {},
   "outputs": [
    {
     "name": "stdout",
     "output_type": "stream",
     "text": [
      "Initialized empty Git repository in C:/Users/cauch/Downloads/Data Science/DSW1/gitdemo/.git/\n"
     ]
    }
   ],
   "source": [
    "# create a new git repository called gitdemo:\n",
    "!git init gitdemo"
   ]
  },
  {
   "cell_type": "markdown",
   "metadata": {},
   "source": [
    "If we want to fork or clone an existing repository, we can use the command `git clone repository`:"
   ]
  },
  {
   "cell_type": "code",
   "execution_count": 3,
   "metadata": {},
   "outputs": [
    {
     "name": "stderr",
     "output_type": "stream",
     "text": [
      "Cloning into 'qutip'...\n"
     ]
    }
   ],
   "source": [
    "!git clone https://github.com/qutip/qutip"
   ]
  },
  {
   "cell_type": "markdown",
   "metadata": {},
   "source": [
    "`git clone` can take a URL ro a public repository, like above, or a path to a local directory:"
   ]
  },
  {
   "cell_type": "code",
   "execution_count": 4,
   "metadata": {},
   "outputs": [
    {
     "name": "stderr",
     "output_type": "stream",
     "text": [
      "Cloning into 'gitdemo2'...\n",
      "warning: You appear to have cloned an empty repository.\n",
      "done.\n"
     ]
    }
   ],
   "source": [
    "!git clone gitdemo gitdemo2"
   ]
  },
  {
   "cell_type": "markdown",
   "metadata": {},
   "source": [
    "### Status\n",
    "Using the command `git status` we get a summary of the current status of the working directory. It shows if we have modified, added or removed files."
   ]
  },
  {
   "cell_type": "code",
   "execution_count": 1,
   "metadata": {},
   "outputs": [
    {
     "name": "stdout",
     "output_type": "stream",
     "text": [
      "/c/Users/cauch/Downloads/Data Science/DSW1/gitdemo\n"
     ]
    }
   ],
   "source": [
    "!pwd"
   ]
  },
  {
   "cell_type": "code",
   "execution_count": 2,
   "metadata": {},
   "outputs": [
    {
     "name": "stdout",
     "output_type": "stream",
     "text": [
      "On branch master\n",
      "\n",
      "No commits yet\n",
      "\n",
      "Untracked files:\n",
      "  (use \"git add <file>...\" to include in what will be committed)\n",
      "\tRCS.ipynb\n",
      "\n",
      "nothing added to commit but untracked files present (use \"git add\" to track)\n"
     ]
    }
   ],
   "source": [
    "!git status"
   ]
  },
  {
   "cell_type": "markdown",
   "metadata": {},
   "source": [
    "## Adding files and commiting changes\n",
    "To add a new file to the repository, we first create the file and then use the `git add filename` command:"
   ]
  },
  {
   "cell_type": "code",
   "execution_count": 1,
   "metadata": {},
   "outputs": [
    {
     "name": "stdout",
     "output_type": "stream",
     "text": [
      "Writing README\n"
     ]
    }
   ],
   "source": [
    "%%file README\n",
    "\n",
    "A file with information about the gitdemo repository."
   ]
  },
  {
   "cell_type": "code",
   "execution_count": 2,
   "metadata": {},
   "outputs": [
    {
     "name": "stdout",
     "output_type": "stream",
     "text": [
      "On branch master\n",
      "\n",
      "No commits yet\n",
      "\n",
      "Untracked files:\n",
      "  (use \"git add <file>...\" to include in what will be committed)\n",
      "\t.ipynb_checkpoints/\n",
      "\tRCS.ipynb\n",
      "\tREADME\n",
      "\n",
      "nothing added to commit but untracked files present (use \"git add\" to track)\n"
     ]
    }
   ],
   "source": [
    "!git status"
   ]
  },
  {
   "cell_type": "code",
   "execution_count": 5,
   "metadata": {},
   "outputs": [
    {
     "name": "stdout",
     "output_type": "stream",
     "text": [
      "Overwriting .gitignore\n"
     ]
    }
   ],
   "source": [
    "%%file .gitignore\n",
    "\n",
    ".ipynb_checkpoints"
   ]
  },
  {
   "cell_type": "code",
   "execution_count": 6,
   "metadata": {},
   "outputs": [
    {
     "name": "stdout",
     "output_type": "stream",
     "text": [
      "On branch master\n",
      "\n",
      "No commits yet\n",
      "\n",
      "Untracked files:\n",
      "  (use \"git add <file>...\" to include in what will be committed)\n",
      "\t.gitignore\n",
      "\tRCS.ipynb\n",
      "\tREADME\n",
      "\n",
      "nothing added to commit but untracked files present (use \"git add\" to track)\n"
     ]
    }
   ],
   "source": [
    "!git status"
   ]
  },
  {
   "cell_type": "code",
   "execution_count": 7,
   "metadata": {},
   "outputs": [],
   "source": [
    "!git add README"
   ]
  },
  {
   "cell_type": "code",
   "execution_count": 8,
   "metadata": {},
   "outputs": [
    {
     "name": "stdout",
     "output_type": "stream",
     "text": [
      "On branch master\n",
      "\n",
      "No commits yet\n",
      "\n",
      "Changes to be committed:\n",
      "  (use \"git rm --cached <file>...\" to unstage)\n",
      "\tnew file:   README\n",
      "\n",
      "Untracked files:\n",
      "  (use \"git add <file>...\" to include in what will be committed)\n",
      "\t.gitignore\n",
      "\tRCS.ipynb\n",
      "\n"
     ]
    }
   ],
   "source": [
    "!git status"
   ]
  },
  {
   "cell_type": "code",
   "execution_count": 9,
   "metadata": {},
   "outputs": [
    {
     "name": "stdout",
     "output_type": "stream",
     "text": [
      "[master (root-commit) 5c1b919] Added a README file\n",
      " 1 file changed, 2 insertions(+)\n",
      " create mode 100644 README\n"
     ]
    }
   ],
   "source": [
    "!git commit -m \"Added a README file\" README"
   ]
  },
  {
   "cell_type": "code",
   "execution_count": 10,
   "metadata": {},
   "outputs": [],
   "source": [
    "!git add -A"
   ]
  },
  {
   "cell_type": "code",
   "execution_count": 11,
   "metadata": {},
   "outputs": [
    {
     "name": "stdout",
     "output_type": "stream",
     "text": [
      "[master e2ed263] added notebook and .gitignore file\n",
      " 2 files changed, 463 insertions(+)\n",
      " create mode 100644 .gitignore\n",
      " create mode 100644 RCS.ipynb\n"
     ]
    }
   ],
   "source": [
    "!git commit -m \"added notebook and .gitignore file\""
   ]
  },
  {
   "cell_type": "code",
   "execution_count": 12,
   "metadata": {},
   "outputs": [
    {
     "name": "stdout",
     "output_type": "stream",
     "text": [
      "On branch master\n",
      "nothing to commit, working tree clean\n"
     ]
    }
   ],
   "source": [
    "!git status"
   ]
  },
  {
   "cell_type": "markdown",
   "metadata": {},
   "source": [
    "After *commiting* the changes to the repository from the local directory, `git status` again reports that working directory is clean."
   ]
  },
  {
   "cell_type": "markdown",
   "metadata": {},
   "source": [
    "### Commiting changes\n",
    "When files that is tracked by Git are changed, they are listed as *modified* by `git status`:"
   ]
  },
  {
   "cell_type": "code",
   "execution_count": 17,
   "metadata": {},
   "outputs": [
    {
     "name": "stdout",
     "output_type": "stream",
     "text": [
      "Overwriting README\n"
     ]
    }
   ],
   "source": [
    "%%file README\n",
    "\n",
    "A file with information about the gitdemo repository.\n",
    "\n",
    "A new line."
   ]
  },
  {
   "cell_type": "code",
   "execution_count": 18,
   "metadata": {},
   "outputs": [
    {
     "data": {
      "application/javascript": [
       "IPython.notebook.set_autosave_interval(0)"
      ]
     },
     "metadata": {},
     "output_type": "display_data"
    },
    {
     "name": "stdout",
     "output_type": "stream",
     "text": [
      "Autosave disabled\n"
     ]
    }
   ],
   "source": [
    "%autosave 0"
   ]
  },
  {
   "cell_type": "code",
   "execution_count": 19,
   "metadata": {},
   "outputs": [
    {
     "name": "stdout",
     "output_type": "stream",
     "text": [
      "On branch master\n",
      "Changes not staged for commit:\n",
      "  (use \"git add <file>...\" to update what will be committed)\n",
      "  (use \"git restore <file>...\" to discard changes in working directory)\n",
      "\tmodified:   RCS.ipynb\n",
      "\n",
      "no changes added to commit (use \"git add\" and/or \"git commit -a\")\n"
     ]
    }
   ],
   "source": [
    "!git status"
   ]
  },
  {
   "cell_type": "code",
   "execution_count": 15,
   "metadata": {},
   "outputs": [
    {
     "name": "stdout",
     "output_type": "stream",
     "text": [
      "[master 6abc5cb] added one more line in README\n",
      " 1 file changed, 2 insertions(+)\n"
     ]
    }
   ],
   "source": [
    "!git commit -m \"added one more line in README\" README"
   ]
  },
  {
   "cell_type": "code",
   "execution_count": 16,
   "metadata": {},
   "outputs": [
    {
     "name": "stdout",
     "output_type": "stream",
     "text": [
      "On branch master\n",
      "Changes not staged for commit:\n",
      "  (use \"git add <file>...\" to update what will be committed)\n",
      "  (use \"git restore <file>...\" to discard changes in working directory)\n",
      "\tmodified:   RCS.ipynb\n",
      "\n",
      "no changes added to commit (use \"git add\" and/or \"git commit -a\")\n"
     ]
    }
   ],
   "source": [
    "!git status"
   ]
  },
  {
   "cell_type": "code",
   "execution_count": 20,
   "metadata": {},
   "outputs": [
    {
     "name": "stdout",
     "output_type": "stream",
     "text": [
      "[master 725b57c] some changes in the notebook\n",
      " 1 file changed, 126 insertions(+), 31 deletions(-)\n"
     ]
    }
   ],
   "source": [
    "!git commit -m \"some changes in the notebook\" RCS.ipynb"
   ]
  },
  {
   "cell_type": "code",
   "execution_count": 21,
   "metadata": {},
   "outputs": [
    {
     "name": "stdout",
     "output_type": "stream",
     "text": [
      "On branch master\n",
      "nothing to commit, working tree clean\n"
     ]
    }
   ],
   "source": [
    "!git status"
   ]
  },
  {
   "cell_type": "markdown",
   "metadata": {},
   "source": [
    "### Removing files\n",
    "To remove file that has been added to the repository, use `git rm filename`, which works similar to `git add filename`:"
   ]
  },
  {
   "cell_type": "code",
   "execution_count": 22,
   "metadata": {},
   "outputs": [
    {
     "name": "stdout",
     "output_type": "stream",
     "text": [
      "Writing tmpfile\n"
     ]
    }
   ],
   "source": [
    "%%file tmpfile\n",
    "\n",
    "A short-lived file."
   ]
  },
  {
   "cell_type": "code",
   "execution_count": 23,
   "metadata": {},
   "outputs": [],
   "source": [
    "# Add it\n",
    "!git add tmpfile"
   ]
  },
  {
   "cell_type": "code",
   "execution_count": 24,
   "metadata": {},
   "outputs": [
    {
     "name": "stdout",
     "output_type": "stream",
     "text": [
      "[master 8780372] Adding file tmpfile\n",
      " 1 file changed, 2 insertions(+)\n",
      " create mode 100644 tmpfile\n"
     ]
    }
   ],
   "source": [
    "!git commit -m \"Adding file tmpfile\" tmpfile"
   ]
  },
  {
   "cell_type": "code",
   "execution_count": 25,
   "metadata": {},
   "outputs": [
    {
     "name": "stdout",
     "output_type": "stream",
     "text": [
      "rm 'tmpfile'\n"
     ]
    }
   ],
   "source": [
    "# Remove it again:\n",
    "!git rm tmpfile"
   ]
  },
  {
   "cell_type": "code",
   "execution_count": 26,
   "metadata": {},
   "outputs": [
    {
     "name": "stdout",
     "output_type": "stream",
     "text": [
      "[master 4e584c8] remove file tmpfile\n",
      " 1 file changed, 2 deletions(-)\n",
      " delete mode 100644 tmpfile\n"
     ]
    }
   ],
   "source": [
    "!git commit -m \"remove file tmpfile\" tmpfile"
   ]
  },
  {
   "cell_type": "markdown",
   "metadata": {},
   "source": [
    "### Commit logs\n",
    "The messages that are added to the commit command are supposed to give a short description of the changes/additions/deletions in the commit. If the -m \"message\" is omitted when working the `git commit` message, an editor will be opened for you to type a commit message (useful when a longer commit message is required).\n",
    "\n",
    "We can look at the revision log by using the command `git log`:"
   ]
  },
  {
   "cell_type": "code",
   "execution_count": 27,
   "metadata": {},
   "outputs": [
    {
     "name": "stdout",
     "output_type": "stream",
     "text": [
      "commit 4e584c8245bd21f1727f9bd95755e08fee85a239\n",
      "Author: KONATE HAMIDOU <hamidou.konate@ymail.com>\n",
      "Date:   Mon Mar 30 10:23:56 2020 +0900\n",
      "\n",
      "    remove file tmpfile\n",
      "\n",
      "commit 8780372b309d47bf1382eed903b168f3c8474aab\n",
      "Author: KONATE HAMIDOU <hamidou.konate@ymail.com>\n",
      "Date:   Mon Mar 30 10:22:59 2020 +0900\n",
      "\n",
      "    Adding file tmpfile\n",
      "\n",
      "commit 725b57ca5ab61c449bed40432090f9478bec1c11\n",
      "Author: KONATE HAMIDOU <hamidou.konate@ymail.com>\n",
      "Date:   Mon Mar 30 10:15:48 2020 +0900\n",
      "\n",
      "    some changes in the notebook\n",
      "\n",
      "commit 6abc5cb296bc12006475133d385b597331cd890d\n",
      "Author: KONATE HAMIDOU <hamidou.konate@ymail.com>\n",
      "Date:   Mon Mar 30 10:01:07 2020 +0900\n",
      "\n",
      "    added one more line in README\n",
      "\n",
      "commit e2ed263fc0a3bd81aedf6c7f6dcdd8e5541ec60c\n",
      "Author: KONATE HAMIDOU <hamidou.konate@ymail.com>\n",
      "Date:   Mon Mar 30 09:54:39 2020 +0900\n",
      "\n",
      "    added notebook and .gitignore file\n",
      "\n",
      "commit 5c1b919612f560f6bdb2d00b498e1335c967b8cb\n",
      "Author: KONATE HAMIDOU <hamidou.konate@ymail.com>\n",
      "Date:   Mon Mar 30 09:53:32 2020 +0900\n",
      "\n",
      "    Added a README file\n"
     ]
    }
   ],
   "source": [
    "!git log"
   ]
  },
  {
   "cell_type": "markdown",
   "metadata": {},
   "source": [
    "In the commit log, each revision is shown with a *timestamp*, a unique *alphanumeric* tag, *the author information*, and the *commit message*."
   ]
  },
  {
   "cell_type": "markdown",
   "metadata": {},
   "source": [
    "### Diffs\n",
    "All commits results in a changeset, which has a \"diff\" describing the changes to the file associated with it. We can use `git diff` to see what has changed in a file:"
   ]
  },
  {
   "cell_type": "code",
   "execution_count": 28,
   "metadata": {},
   "outputs": [
    {
     "name": "stdout",
     "output_type": "stream",
     "text": [
      "Overwriting README\n"
     ]
    }
   ],
   "source": [
    "%%file README\n",
    "\n",
    "A file with information about the gitdemo repository.\n",
    "\n",
    "README files usually contains installation instructions, and information about how to get started using the software."
   ]
  },
  {
   "cell_type": "code",
   "execution_count": 29,
   "metadata": {},
   "outputs": [
    {
     "name": "stdout",
     "output_type": "stream",
     "text": [
      "diff --git a/README b/README\n",
      "index e3c46c9..d01bf3c 100644\n",
      "--- a/README\n",
      "+++ b/README\n",
      "@@ -1,4 +1,4 @@\n",
      " \n",
      " A file with information about the gitdemo repository.\n",
      " \n",
      "-A new line.\n",
      "+README files usually contains installation instructions, and information about how to get started using the software.\n"
     ]
    }
   ],
   "source": [
    "!git diff README"
   ]
  },
  {
   "cell_type": "markdown",
   "metadata": {},
   "source": [
    "That looks quite cryptic but it is a standard form for describing changes in files.\n",
    "\n",
    "We can use other tools, like graphical user interfaces (GUI) or web based systems to get a more more easily understandable diff.\n",
    "\n",
    "In github (a web-based GIT repository hosting service) it can look like this:"
   ]
  },
  {
   "cell_type": "code",
   "execution_count": 33,
   "metadata": {},
   "outputs": [
    {
     "data": {
      "image/png": "[encoded data removed]",
      "text/plain": [
       "<IPython.core.display.Image object>"
      ]
     },
     "execution_count": 33,
     "metadata": {},
     "output_type": "execute_result"
    }
   ],
   "source": [
    "from IPython.display import Image\n",
    "\n",
    "Image(filename='2.png')"
   ]
  },
  {
   "cell_type": "markdown",
   "metadata": {},
   "source": [
    "### Discard changes in the working directory\n",
    "To discard a change (revert to the lastest version in the repository) we can use `git checkout`\n",
    "command like this:"
   ]
  },
  {
   "cell_type": "code",
   "execution_count": 37,
   "metadata": {},
   "outputs": [],
   "source": [
    "!git checkout -- README"
   ]
  },
  {
   "cell_type": "code",
   "execution_count": 39,
   "metadata": {},
   "outputs": [
    {
     "name": "stdout",
     "output_type": "stream",
     "text": [
      "On branch master\n",
      "Untracked files:\n",
      "  (use \"git add <file>...\" to include in what will be committed)\n",
      "\t2.png\n",
      "\n",
      "nothing added to commit but untracked files present (use \"git add\" to track)\n"
     ]
    }
   ],
   "source": [
    "!git status"
   ]
  },
  {
   "cell_type": "code",
   "execution_count": 41,
   "metadata": {},
   "outputs": [],
   "source": [
    "!git add 2.png"
   ]
  },
  {
   "cell_type": "code",
   "execution_count": 42,
   "metadata": {},
   "outputs": [
    {
     "name": "stdout",
     "output_type": "stream",
     "text": [
      "[master 49328e6] added a picture\n",
      " 1 file changed, 0 insertions(+), 0 deletions(-)\n",
      " create mode 100644 2.png\n"
     ]
    }
   ],
   "source": [
    "!git commit -m \"added a picture\" 2.png"
   ]
  },
  {
   "cell_type": "code",
   "execution_count": 43,
   "metadata": {},
   "outputs": [
    {
     "name": "stdout",
     "output_type": "stream",
     "text": [
      "On branch master\n",
      "nothing to commit, working tree clean\n"
     ]
    }
   ],
   "source": [
    "!git status"
   ]
  },
  {
   "cell_type": "markdown",
   "metadata": {},
   "source": [
    "### Checking out old revisions\n",
    "If we want to get the code for a specific revision, we can use `git checkout` and giving it the hash code for the revision we are interested as argument:"
   ]
  },
  {
   "cell_type": "code",
   "execution_count": 44,
   "metadata": {},
   "outputs": [
    {
     "name": "stdout",
     "output_type": "stream",
     "text": [
      "commit 49328e607d7beaac963e75c837964fea0a934137\n",
      "Author: KONATE HAMIDOU <hamidou.konate@ymail.com>\n",
      "Date:   Mon Mar 30 11:09:41 2020 +0900\n",
      "\n",
      "    added a picture\n",
      "\n",
      "commit 4e584c8245bd21f1727f9bd95755e08fee85a239\n",
      "Author: KONATE HAMIDOU <hamidou.konate@ymail.com>\n",
      "Date:   Mon Mar 30 10:23:56 2020 +0900\n",
      "\n",
      "    remove file tmpfile\n",
      "\n",
      "commit 8780372b309d47bf1382eed903b168f3c8474aab\n",
      "Author: KONATE HAMIDOU <hamidou.konate@ymail.com>\n",
      "Date:   Mon Mar 30 10:22:59 2020 +0900\n",
      "\n",
      "    Adding file tmpfile\n",
      "\n",
      "commit 725b57ca5ab61c449bed40432090f9478bec1c11\n",
      "Author: KONATE HAMIDOU <hamidou.konate@ymail.com>\n",
      "Date:   Mon Mar 30 10:15:48 2020 +0900\n",
      "\n",
      "    some changes in the notebook\n",
      "\n",
      "commit 6abc5cb296bc12006475133d385b597331cd890d\n",
      "Author: KONATE HAMIDOU <hamidou.konate@ymail.com>\n",
      "Date:   Mon Mar 30 10:01:07 2020 +0900\n",
      "\n",
      "    added one more line in README\n",
      "\n",
      "commit e2ed263fc0a3bd81aedf6c7f6dcdd8e5541ec60c\n",
      "Author: KONATE HAMIDOU <hamidou.konate@ymail.com>\n",
      "Date:   Mon Mar 30 09:54:39 2020 +0900\n",
      "\n",
      "    added notebook and .gitignore file\n",
      "\n",
      "commit 5c1b919612f560f6bdb2d00b498e1335c967b8cb\n",
      "Author: KONATE HAMIDOU <hamidou.konate@ymail.com>\n",
      "Date:   Mon Mar 30 09:53:32 2020 +0900\n",
      "\n",
      "    Added a README file\n"
     ]
    }
   ],
   "source": [
    "!git log"
   ]
  },
  {
   "cell_type": "code",
   "execution_count": 45,
   "metadata": {},
   "outputs": [
    {
     "name": "stderr",
     "output_type": "stream",
     "text": [
      "Note: switching to '5c1b919612f560f6bdb2d00b498e1335c967b8cb'.\n",
      "\n",
      "You are in 'detached HEAD' state. You can look around, make experimental\n",
      "changes and commit them, and you can discard any commits you make in this\n",
      "state without impacting any branches by switching back to a branch.\n",
      "\n",
      "If you want to create a new branch to retain commits you create, you may\n",
      "do so (now or later) by using -c with the switch command. Example:\n",
      "\n",
      "  git switch -c <new-branch-name>\n",
      "\n",
      "Or undo this operation with:\n",
      "\n",
      "  git switch -\n",
      "\n",
      "Turn off this advice by setting config variable advice.detachedHead to false\n",
      "\n",
      "HEAD is now at 5c1b919 Added a README file\n"
     ]
    }
   ],
   "source": [
    "!git checkout 5c1b919612f560f6bdb2d00b498e1335c967b8cb"
   ]
  },
  {
   "cell_type": "markdown",
   "metadata": {},
   "source": [
    "Now the content of all the files like in the revision with the hash code listed above (first revision)"
   ]
  },
  {
   "cell_type": "code",
   "execution_count": 46,
   "metadata": {},
   "outputs": [
    {
     "name": "stdout",
     "output_type": "stream",
     "text": [
      "\n",
      "A file with information about the gitdemo repository.\n"
     ]
    }
   ],
   "source": [
    "!cat README"
   ]
  },
  {
   "cell_type": "markdown",
   "metadata": {},
   "source": [
    "We can move back to the \"latest\" (master) with the command:"
   ]
  },
  {
   "cell_type": "code",
   "execution_count": 47,
   "metadata": {},
   "outputs": [
    {
     "name": "stderr",
     "output_type": "stream",
     "text": [
      "Previous HEAD position was 5c1b919 Added a README file\n",
      "Switched to branch 'master'\n"
     ]
    }
   ],
   "source": [
    "!git checkout master"
   ]
  },
  {
   "cell_type": "code",
   "execution_count": 48,
   "metadata": {},
   "outputs": [
    {
     "name": "stdout",
     "output_type": "stream",
     "text": [
      "\n",
      "A file with information about the gitdemo repository.\n",
      "\n",
      "A new line.\n"
     ]
    }
   ],
   "source": [
    "!cat README"
   ]
  },
  {
   "cell_type": "code",
   "execution_count": 49,
   "metadata": {},
   "outputs": [
    {
     "name": "stdout",
     "output_type": "stream",
     "text": [
      "On branch master\n",
      "nothing to commit, working tree clean\n"
     ]
    }
   ],
   "source": [
    "!git status"
   ]
  },
  {
   "cell_type": "markdown",
   "metadata": {},
   "source": [
    "### Tagging and branching"
   ]
  },
  {
   "cell_type": "markdown",
   "metadata": {},
   "source": [
    "#### Tags\n",
    "Tags are named revisions. They are useful for making particular revisions for later references.\n",
    "\n",
    "For example, we can tag our code with the tag \"paper-1-final\" when code for \"paper-1\" is done. Then we can always retreive exactly the code used for that paper even if we continue to work on and develop the code for future projects."
   ]
  },
  {
   "cell_type": "code",
   "execution_count": 50,
   "metadata": {},
   "outputs": [
    {
     "name": "stdout",
     "output_type": "stream",
     "text": [
      "commit 49328e607d7beaac963e75c837964fea0a934137\n",
      "Author: KONATE HAMIDOU <hamidou.konate@ymail.com>\n",
      "Date:   Mon Mar 30 11:09:41 2020 +0900\n",
      "\n",
      "    added a picture\n",
      "\n",
      "commit 4e584c8245bd21f1727f9bd95755e08fee85a239\n",
      "Author: KONATE HAMIDOU <hamidou.konate@ymail.com>\n",
      "Date:   Mon Mar 30 10:23:56 2020 +0900\n",
      "\n",
      "    remove file tmpfile\n",
      "\n",
      "commit 8780372b309d47bf1382eed903b168f3c8474aab\n",
      "Author: KONATE HAMIDOU <hamidou.konate@ymail.com>\n",
      "Date:   Mon Mar 30 10:22:59 2020 +0900\n",
      "\n",
      "    Adding file tmpfile\n",
      "\n",
      "commit 725b57ca5ab61c449bed40432090f9478bec1c11\n",
      "Author: KONATE HAMIDOU <hamidou.konate@ymail.com>\n",
      "Date:   Mon Mar 30 10:15:48 2020 +0900\n",
      "\n",
      "    some changes in the notebook\n",
      "\n",
      "commit 6abc5cb296bc12006475133d385b597331cd890d\n",
      "Author: KONATE HAMIDOU <hamidou.konate@ymail.com>\n",
      "Date:   Mon Mar 30 10:01:07 2020 +0900\n",
      "\n",
      "    added one more line in README\n",
      "\n",
      "commit e2ed263fc0a3bd81aedf6c7f6dcdd8e5541ec60c\n",
      "Author: KONATE HAMIDOU <hamidou.konate@ymail.com>\n",
      "Date:   Mon Mar 30 09:54:39 2020 +0900\n",
      "\n",
      "    added notebook and .gitignore file\n",
      "\n",
      "commit 5c1b919612f560f6bdb2d00b498e1335c967b8cb\n",
      "Author: KONATE HAMIDOU <hamidou.konate@ymail.com>\n",
      "Date:   Mon Mar 30 09:53:32 2020 +0900\n",
      "\n",
      "    Added a README file\n"
     ]
    }
   ],
   "source": [
    "!git log"
   ]
  },
  {
   "cell_type": "code",
   "execution_count": 51,
   "metadata": {},
   "outputs": [],
   "source": [
    "!git tag -a demotag1 -m \"Code used for this and that purpose\""
   ]
  },
  {
   "cell_type": "code",
   "execution_count": 52,
   "metadata": {},
   "outputs": [
    {
     "name": "stdout",
     "output_type": "stream",
     "text": [
      "demotag1\n"
     ]
    }
   ],
   "source": [
    "!git tag -l"
   ]
  },
  {
   "cell_type": "code",
   "execution_count": 53,
   "metadata": {},
   "outputs": [
    {
     "name": "stdout",
     "output_type": "stream",
     "text": [
      "tag demotag1\n",
      "Tagger: KONATE HAMIDOU <hamidou.konate@ymail.com>\n",
      "Date:   Mon Mar 30 11:48:52 2020 +0900\n",
      "\n",
      "Code used for this and that purpose\n",
      "\n",
      "commit 49328e607d7beaac963e75c837964fea0a934137\n",
      "Author: KONATE HAMIDOU <hamidou.konate@ymail.com>\n",
      "Date:   Mon Mar 30 11:09:41 2020 +0900\n",
      "\n",
      "    added a picture\n",
      "\n",
      "diff --git a/2.png b/2.png\n",
      "new file mode 100644\n",
      "index 0000000..a20ef2d\n",
      "Binary files /dev/null and b/2.png differ\n"
     ]
    }
   ],
   "source": [
    "!git show demotag1"
   ]
  },
  {
   "cell_type": "markdown",
   "metadata": {},
   "source": [
    "To retrieve the code in the state corresponding to a particular tag, we can use the `git chechout tagname` command:\n",
    "\n",
    "` $ git checkout demotag1`"
   ]
  },
  {
   "cell_type": "markdown",
   "metadata": {},
   "source": [
    "### Branches\n",
    "With branches we can create diverging code in the same repository. They are for example useful for experimental development that requires a lot of code changes that could break the functionality in the master branch.\n",
    "\n",
    "Once the development of a branch has reached a stable state, it can always be merged back into the trunk. `Branching-development-merging` is a good development strategy when several people are involved in working on the same code base.\n",
    "\n",
    "But even in single author repositories, it can be often useful to always keep the master branch in a working state, and always branch/fork before implementing a new feature, and later merge it back into the main trunk.\n",
    "\n",
    "In Git, we can create a new branch like this:"
   ]
  },
  {
   "cell_type": "code",
   "execution_count": 54,
   "metadata": {},
   "outputs": [],
   "source": [
    "!git branch exp1"
   ]
  },
  {
   "cell_type": "markdown",
   "metadata": {},
   "source": [
    "We can list the existing branches like this:"
   ]
  },
  {
   "cell_type": "code",
   "execution_count": 55,
   "metadata": {},
   "outputs": [
    {
     "name": "stdout",
     "output_type": "stream",
     "text": [
      "  exp1\n",
      "* master\n"
     ]
    }
   ],
   "source": [
    "!git branch"
   ]
  },
  {
   "cell_type": "markdown",
   "metadata": {},
   "source": [
    "We can switch between branches using `checkout`:"
   ]
  },
  {
   "cell_type": "code",
   "execution_count": 57,
   "metadata": {},
   "outputs": [
    {
     "name": "stderr",
     "output_type": "stream",
     "text": [
      "Switched to branch 'exp1'\n"
     ]
    }
   ],
   "source": [
    "!git checkout exp1"
   ]
  },
  {
   "cell_type": "markdown",
   "metadata": {},
   "source": [
    "Make a change in the new branch"
   ]
  },
  {
   "cell_type": "code",
   "execution_count": 58,
   "metadata": {},
   "outputs": [
    {
     "name": "stdout",
     "output_type": "stream",
     "text": [
      "Overwriting README\n"
     ]
    }
   ],
   "source": [
    "%%file README\n",
    "\n",
    "A file with information about the gitdemo repository.\n",
    "\n",
    "README files usually contains installation instructions, and information about how to get started using the software.\n",
    "\n",
    "Experimental addition"
   ]
  },
  {
   "cell_type": "code",
   "execution_count": 59,
   "metadata": {},
   "outputs": [
    {
     "name": "stdout",
     "output_type": "stream",
     "text": [
      "[exp1 2231f9e] added a line in exp1 branch\n",
      " 1 file changed, 3 insertions(+), 1 deletion(-)\n"
     ]
    }
   ],
   "source": [
    "!git commit -m \"added a line in exp1 branch\" README"
   ]
  },
  {
   "cell_type": "code",
   "execution_count": 60,
   "metadata": {},
   "outputs": [
    {
     "name": "stdout",
     "output_type": "stream",
     "text": [
      "* exp1\n",
      "  master\n"
     ]
    }
   ],
   "source": [
    "!git branch"
   ]
  },
  {
   "cell_type": "markdown",
   "metadata": {},
   "source": [
    "We can merge an existing branch and all its changesets into another branch (master branch for example):\n",
    "\n",
    "First, let's go the target branch."
   ]
  },
  {
   "cell_type": "code",
   "execution_count": 61,
   "metadata": {},
   "outputs": [
    {
     "name": "stderr",
     "output_type": "stream",
     "text": [
      "Switched to branch 'master'\n"
     ]
    }
   ],
   "source": [
    "!git checkout master"
   ]
  },
  {
   "cell_type": "code",
   "execution_count": 63,
   "metadata": {},
   "outputs": [
    {
     "name": "stdout",
     "output_type": "stream",
     "text": [
      "Updating 49328e6..2231f9e\n",
      "Fast-forward\n",
      " README | 4 +++-\n",
      " 1 file changed, 3 insertions(+), 1 deletion(-)\n"
     ]
    }
   ],
   "source": [
    "!git merge exp1"
   ]
  },
  {
   "cell_type": "markdown",
   "metadata": {},
   "source": [
    "We can now delete the branch `exp1` now that it has been merged into the master:"
   ]
  },
  {
   "cell_type": "code",
   "execution_count": 64,
   "metadata": {},
   "outputs": [
    {
     "name": "stdout",
     "output_type": "stream",
     "text": [
      "Deleted branch exp1 (was 2231f9e).\n"
     ]
    }
   ],
   "source": [
    "!git branch -d exp1"
   ]
  },
  {
   "cell_type": "code",
   "execution_count": 65,
   "metadata": {},
   "outputs": [
    {
     "name": "stdout",
     "output_type": "stream",
     "text": [
      "* master\n"
     ]
    }
   ],
   "source": [
    "!git branch"
   ]
  },
  {
   "cell_type": "code",
   "execution_count": 66,
   "metadata": {},
   "outputs": [
    {
     "name": "stdout",
     "output_type": "stream",
     "text": [
      "\n",
      "A file with information about the gitdemo repository.\n",
      "\n",
      "README files usually contains installation instructions, and information about how to get started using the software.\n",
      "\n",
      "Experimental addition\n"
     ]
    }
   ],
   "source": [
    "!cat README"
   ]
  },
  {
   "cell_type": "markdown",
   "metadata": {},
   "source": [
    "### Pulling and pushing changesets between repositories\n",
    "If the repository has been cloned from another repository, for example on github, it automatically remembers the address of the parent repository (called origin)."
   ]
  },
  {
   "cell_type": "code",
   "execution_count": 71,
   "metadata": {},
   "outputs": [],
   "source": [
    "!git remote"
   ]
  },
  {
   "cell_type": "code",
   "execution_count": 72,
   "metadata": {},
   "outputs": [],
   "source": [
    "!git remote add origin https://github.com/Hamidou16/gitdemo.git"
   ]
  },
  {
   "cell_type": "code",
   "execution_count": 73,
   "metadata": {},
   "outputs": [
    {
     "name": "stdout",
     "output_type": "stream",
     "text": [
      "origin\n"
     ]
    }
   ],
   "source": [
    "!git remote"
   ]
  },
  {
   "cell_type": "code",
   "execution_count": 2,
   "metadata": {},
   "outputs": [
    {
     "name": "stdout",
     "output_type": "stream",
     "text": [
      "Branch 'master' set up to track remote branch 'master' from 'origin'.\n"
     ]
    },
    {
     "name": "stderr",
     "output_type": "stream",
     "text": [
      "Everything up-to-date\n"
     ]
    }
   ],
   "source": [
    "!git push -u origin master"
   ]
  },
  {
   "cell_type": "code",
   "execution_count": 3,
   "metadata": {},
   "outputs": [
    {
     "name": "stdout",
     "output_type": "stream",
     "text": [
      "* remote origin\n",
      "  Fetch URL: https://github.com/Hamidou16/gitdemo.git\n",
      "  Push  URL: https://github.com/Hamidou16/gitdemo.git\n",
      "  HEAD branch: master\n",
      "  Remote branch:\n",
      "    master tracked\n",
      "  Local branch configured for 'git pull':\n",
      "    master merges with remote master\n",
      "  Local ref configured for 'git push':\n",
      "    master pushes to master (up to date)\n"
     ]
    }
   ],
   "source": [
    "!git remote show origin"
   ]
  },
  {
   "cell_type": "markdown",
   "metadata": {},
   "source": [
    "### pull\n",
    "We can retrieve updates from the origin repository by \"pulling\" changesets from \"origin\" to our repository."
   ]
  },
  {
   "cell_type": "code",
   "execution_count": 4,
   "metadata": {},
   "outputs": [
    {
     "name": "stdout",
     "output_type": "stream",
     "text": [
      "Already up to date.\n"
     ]
    }
   ],
   "source": [
    "!git pull origin"
   ]
  },
  {
   "cell_type": "code",
   "execution_count": 5,
   "metadata": {},
   "outputs": [
    {
     "name": "stdout",
     "output_type": "stream",
     "text": [
      "On branch master\n",
      "Your branch is up to date with 'origin/master'.\n",
      "\n",
      "nothing to commit, working tree clean\n"
     ]
    }
   ],
   "source": [
    "!git status"
   ]
  }
 ],
 "metadata": {
  "kernelspec": {
   "display_name": "Python 3.7.6 64-bit",
   "language": "python",
   "name": "python37664bitecc1985203ae4361a91ea05681fbc1a0"
  },
  "language_info": {
   "codemirror_mode": {
    "name": "ipython",
    "version": 3
   },
   "file_extension": ".py",
   "mimetype": "text/x-python",
   "name": "python",
   "nbconvert_exporter": "python",
   "pygments_lexer": "ipython3",
   "version": "3.7.6"
  }
 },
 "nbformat": 4,
 "nbformat_minor": 4
}
